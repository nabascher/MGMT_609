{
 "cells": [
  {
   "cell_type": "markdown",
   "metadata": {
    "id": "FC4OrUaQ0AD8"
   },
   "source": [
    "### Video Lessons\n",
    "[Numbers and Operations with Numbers (22 min)](https://drive.google.com/file/d/1r7rqrCyEN-s5CNH_PyCfap4QLbzwR2I9/view?usp=sharing)  \n",
    "\n",
    "[Indexing (17 min)](https://drive.google.com/file/d/135NpBXE0HDBLT3afVIkvXkdwH3VhZvE5/view?usp=sharing)  \n",
    "\n",
    "[Slicing and Stepping (5 min)](https://drive.google.com/file/d/1xXdjqp_5sDqn6VmJgsC9ViVeT_ck7LY-/view?usp=sharing)    \n",
    "\n",
    "[Finding, Splitting, and Concatenating with Strings (9 min)](https://drive.google.com/file/d/1kElM9JqzC5DDNMFvZ91Svz1w1g4q2Cn6/view?usp=sharing)  \n",
    "\n",
    "[Booleans and Comparisons (11 min)](https://drive.google.com/file/d/12dhVW0cU1kJAOtTmB5MdxLQIiHI3bOCs/view?usp=sharing)  \n",
    "\n",
    "[Variables and Assignment (4 min)](https://drive.google.com/file/d/1gGI2TNa6QISHbKXFvzbTqKzQG2lNL4D3/view?usp=sharing)   \n"
   ]
  },
  {
   "cell_type": "markdown",
   "metadata": {},
   "source": [
    "#### Objectives:\n",
    "\n",
    "-  gain confidence writing python in the console\n",
    "-  be able to write and run a scripts using code and comments\n",
    "-  distinguish among the types of values in python\n",
    "-  perform operations with numbers and strings\n",
    "-  perform operations with booleans - relational and logical comparisons\n",
    "-  build skills in solving more complex problems that combine values and operation\n",
    "-  become familiar with some resources to use while you are learning\n",
    "-  learn some debugging skills\n"
   ]
  },
  {
   "cell_type": "markdown",
   "metadata": {
    "id": "RXFB8dG12Rc9"
   },
   "source": [
    "### References\n",
    "* [W3Schools Python](https://www.w3schools.com/python/)\n",
    "* [Python Basic Operators (Geeks for Geeks)](https://www.geeksforgeeks.org/python-operators/)\n",
    "* [Stack Overflow](https://stackoverflow.com/)"
   ]
  },
  {
   "cell_type": "markdown",
   "metadata": {
    "id": "P9GQ83YQzWJs"
   },
   "source": [
    "### 1.1.0 Intro to Variable Assignment (=)\n",
    "\n",
    "In the code block below, we are defining a variable and giving it a value, a=3."
   ]
  },
  {
   "cell_type": "code",
   "execution_count": 1,
   "metadata": {
    "id": "DeBWXjSazYu4"
   },
   "outputs": [],
   "source": [
    "a=3"
   ]
  },
  {
   "cell_type": "markdown",
   "metadata": {
    "id": "EUzj1rt13TB4"
   },
   "source": [
    "To check the value associated with a, we can type 'a' into a new code block and run it."
   ]
  },
  {
   "cell_type": "code",
   "execution_count": 2,
   "metadata": {
    "colab": {
     "base_uri": "https://localhost:8080/"
    },
    "id": "8xC141SE3FyO",
    "outputId": "68a10221-8050-4ddf-938b-34930fdf160d"
   },
   "outputs": [
    {
     "data": {
      "text/plain": [
       "3"
      ]
     },
     "execution_count": 2,
     "metadata": {},
     "output_type": "execute_result"
    }
   ],
   "source": [
    "a\n",
    "# this is a comment"
   ]
  },
  {
   "cell_type": "markdown",
   "metadata": {
    "id": "jnWwWrSS4GXe"
   },
   "source": [
    "We can also look at the value of 'a' by using the print() function.  Notice the (), this is a key way to recognize a function in Python."
   ]
  },
  {
   "cell_type": "code",
   "execution_count": null,
   "metadata": {
    "colab": {
     "base_uri": "https://localhost:8080/"
    },
    "id": "LUxGc2kz4Yka",
    "outputId": "be634c5f-55ef-48de-b336-46dafb960c47"
   },
   "outputs": [
    {
     "name": "stdout",
     "output_type": "stream",
     "text": [
      "3\n"
     ]
    }
   ],
   "source": [
    "print(a)"
   ]
  },
  {
   "cell_type": "markdown",
   "metadata": {
    "id": "8xdpgN-aZ5iZ"
   },
   "source": [
    "Here are some additional exercises."
   ]
  },
  {
   "cell_type": "code",
   "execution_count": 3,
   "metadata": {
    "id": "JhMrb3eRaAPc"
   },
   "outputs": [
    {
     "ename": "NameError",
     "evalue": "name 'b' is not defined",
     "output_type": "error",
     "traceback": [
      "\u001b[31m---------------------------------------------------------------------------\u001b[39m",
      "\u001b[31mNameError\u001b[39m                                 Traceback (most recent call last)",
      "\u001b[36mCell\u001b[39m\u001b[36m \u001b[39m\u001b[32mIn[3]\u001b[39m\u001b[32m, line 1\u001b[39m\n\u001b[32m----> \u001b[39m\u001b[32m1\u001b[39m \u001b[43mb\u001b[49m\n",
      "\u001b[31mNameError\u001b[39m: name 'b' is not defined"
     ]
    }
   ],
   "source": []
  },
  {
   "cell_type": "markdown",
   "metadata": {
    "id": "MuUf85qjzZTS"
   },
   "source": [
    "Try typing 'b' into the next code block and notice the error."
   ]
  },
  {
   "cell_type": "code",
   "execution_count": 4,
   "metadata": {
    "colab": {
     "base_uri": "https://localhost:8080/"
    },
    "id": "Z_eXYwoIzZwB",
    "outputId": "22a8a782-f475-4387-beaf-31eacadaa6d4"
   },
   "outputs": [
    {
     "ename": "NameError",
     "evalue": "name 'b' is not defined",
     "output_type": "error",
     "traceback": [
      "\u001b[31m---------------------------------------------------------------------------\u001b[39m",
      "\u001b[31mNameError\u001b[39m                                 Traceback (most recent call last)",
      "\u001b[36mCell\u001b[39m\u001b[36m \u001b[39m\u001b[32mIn[4]\u001b[39m\u001b[32m, line 1\u001b[39m\n\u001b[32m----> \u001b[39m\u001b[32m1\u001b[39m \u001b[43mb\u001b[49m\n",
      "\u001b[31mNameError\u001b[39m: name 'b' is not defined"
     ]
    }
   ],
   "source": [
    "b\n"
   ]
  },
  {
   "cell_type": "markdown",
   "metadata": {
    "id": "HDT_R8ue3ujZ"
   },
   "source": [
    "Notice that the variable b is not defined.  "
   ]
  },
  {
   "cell_type": "markdown",
   "metadata": {
    "id": "t96AK82231Og"
   },
   "source": [
    "We will learn that, in the Python language, variables are associated with data types.  To check a data type, we use a function called type().  Let's try this with the variable a.   "
   ]
  },
  {
   "cell_type": "code",
   "execution_count": 5,
   "metadata": {
    "colab": {
     "base_uri": "https://localhost:8080/"
    },
    "id": "2Ss1yfNn3_7I",
    "outputId": "f93e1c81-5ced-4ea7-a36f-c740c58774bb"
   },
   "outputs": [
    {
     "data": {
      "text/plain": [
       "int"
      ]
     },
     "execution_count": 5,
     "metadata": {},
     "output_type": "execute_result"
    }
   ],
   "source": [
    "type(a)"
   ]
  },
  {
   "cell_type": "code",
   "execution_count": null,
   "metadata": {
    "colab": {
     "base_uri": "https://localhost:8080/"
    },
    "id": "zM6T0GdDaJzt",
    "outputId": "db197c66-558b-4b33-b1e5-bd2772a6184a"
   },
   "outputs": [
    {
     "data": {
      "text/plain": [
       "int"
      ]
     },
     "execution_count": 14,
     "metadata": {},
     "output_type": "execute_result"
    }
   ],
   "source": [
    "type(b)"
   ]
  },
  {
   "cell_type": "code",
   "execution_count": 6,
   "metadata": {
    "id": "2ZssedidaOgh"
   },
   "outputs": [],
   "source": [
    "b=5"
   ]
  },
  {
   "cell_type": "code",
   "execution_count": 7,
   "metadata": {
    "colab": {
     "base_uri": "https://localhost:8080/"
    },
    "id": "uSH7HUfEaTJl",
    "outputId": "bbabf145-168f-4bca-9620-1de74a0faad8"
   },
   "outputs": [
    {
     "data": {
      "text/plain": [
       "int"
      ]
     },
     "execution_count": 7,
     "metadata": {},
     "output_type": "execute_result"
    }
   ],
   "source": [
    "type(b)"
   ]
  },
  {
   "cell_type": "markdown",
   "metadata": {
    "id": "GRg5d7io4kiE"
   },
   "source": [
    "### 1.1.1 Numbers and Operations with Numbers\n",
    "In this section, we take a look at some of the more common types of numbers encountered in Python, namely, integers and floats."
   ]
  },
  {
   "cell_type": "markdown",
   "metadata": {
    "id": "kvfLoQMx5pGt"
   },
   "source": [
    "#### Integers and Floats:\n",
    "\n",
    "Type the following code in the code block and take a minute to notice what it is doing:\n",
    "\n",
    "```\n",
    "a=3\n",
    "print(a)\n",
    "print(type(a))\n",
    "```\n",
    "Then try:\n",
    "```\n",
    "b=3.14\n",
    "print(b)\n",
    "print(type(b))\n",
    "```"
   ]
  },
  {
   "cell_type": "code",
   "execution_count": 10,
   "metadata": {
    "colab": {
     "base_uri": "https://localhost:8080/"
    },
    "id": "9BmrnliO6N26",
    "outputId": "c0f47f6f-8bde-4162-9038-3c36dc566d4b"
   },
   "outputs": [
    {
     "name": "stdout",
     "output_type": "stream",
     "text": [
      "3\n",
      "<class 'int'>\n"
     ]
    }
   ],
   "source": [
    "a=3\n",
    "print(a)\n",
    "print(type(a))\n"
   ]
  },
  {
   "cell_type": "code",
   "execution_count": 11,
   "metadata": {
    "colab": {
     "base_uri": "https://localhost:8080/"
    },
    "id": "ksMFc1p0EJ19",
    "outputId": "d3c10cac-ac1d-4e0c-b262-bc463868557d"
   },
   "outputs": [
    {
     "name": "stdout",
     "output_type": "stream",
     "text": [
      "3.14\n",
      "<class 'float'>\n"
     ]
    }
   ],
   "source": [
    "b=3.14\n",
    "print(b)\n",
    "print(type(b))"
   ]
  },
  {
   "cell_type": "code",
   "execution_count": 12,
   "metadata": {},
   "outputs": [
    {
     "name": "stdout",
     "output_type": "stream",
     "text": [
      "3\n",
      "3.14\n"
     ]
    }
   ],
   "source": [
    "print(a)\n",
    "print(b)"
   ]
  },
  {
   "cell_type": "markdown",
   "metadata": {
    "id": "iuWI149N6a9V"
   },
   "source": [
    "An integer, 3, is a whole number.\n",
    "\n",
    "A float, 3.14, has both an integer and a rational component.  "
   ]
  },
  {
   "cell_type": "markdown",
   "metadata": {
    "id": "rs2IuAwAFrE1"
   },
   "source": [
    "### Operations with Numbers\n",
    "The following symbols can all be used to perform operations in python:\n",
    "```\n",
    "+   -   *   /   //   %\n",
    "```\n",
    "Take a little time to experiment with these operations using both integers and floats and try to understand what each operation does."
   ]
  },
  {
   "cell_type": "code",
   "execution_count": 23,
   "metadata": {
    "colab": {
     "base_uri": "https://localhost:8080/"
    },
    "id": "qQJPAusCFqVo",
    "outputId": "ad47cabe-7d8e-469d-9eb5-bf7c492d8a6f"
   },
   "outputs": [
    {
     "data": {
      "text/plain": [
       "2"
      ]
     },
     "execution_count": 23,
     "metadata": {},
     "output_type": "execute_result"
    }
   ],
   "source": [
    "x=6\n",
    "y=4.5\n",
    "\n",
    "# print('x+y=', x+y)\n",
    "# print('x-y=', x-y)\n",
    "# print('x*y=', x*y)\n",
    "# print('x/y=', x/y)\n",
    "# print('x//y=', x//y)\n",
    "# print('x%y=', x%y)\n"
   ]
  },
  {
   "cell_type": "markdown",
   "metadata": {
    "id": "83tQftGYGLLB"
   },
   "source": [
    "|Operator|Description|Example|\n",
    "|---|---|---|\n",
    "|+|Addition|x+y|\n",
    "|-|Subtraction|x-y|\n",
    "|*|Multiplication|x*y|\n",
    "|/|Division|x/y|\n",
    "|//|Integer Division|x//y|\n",
    "|%|Modulus Operator|x%y|\n",
    "\n"
   ]
  },
  {
   "cell_type": "markdown",
   "metadata": {
    "id": "_w6c6C_fHquZ"
   },
   "source": [
    "The modulus operator returns the remainder when the first operand is diivided by the second.  What is the modulus operator useful for?\n",
    "\n",
    "Try typing the following in the code block:\n",
    "```\n",
    "x=264%4\n",
    "print(x)\n",
    "print(type(x))\n",
    "```\n",
    "Then try:\n",
    "```\n",
    "y=1054%4\n",
    "print(y)\n",
    "print(type(y))\n",
    "```\n"
   ]
  },
  {
   "cell_type": "code",
   "execution_count": 27,
   "metadata": {
    "colab": {
     "base_uri": "https://localhost:8080/"
    },
    "id": "W8qRT-roG0NV",
    "outputId": "f9e051b9-8f13-4807-e294-9318e7de8b61"
   },
   "outputs": [
    {
     "name": "stdout",
     "output_type": "stream",
     "text": [
      "0\n",
      "<class 'int'>\n"
     ]
    }
   ],
   "source": [
    "x=264%4 # using the modulus operator\n",
    "print(x)\n",
    "print(type(x))"
   ]
  },
  {
   "cell_type": "code",
   "execution_count": 28,
   "metadata": {
    "colab": {
     "base_uri": "https://localhost:8080/"
    },
    "id": "7KPymkgrIS0k",
    "outputId": "f5b9b144-ec61-4ea4-c60c-d0ad874bbb0a"
   },
   "outputs": [
    {
     "name": "stdout",
     "output_type": "stream",
     "text": [
      "2\n",
      "<class 'int'>\n"
     ]
    }
   ],
   "source": [
    "y=1054%4\n",
    "print(y)\n",
    "print(type(y))"
   ]
  },
  {
   "cell_type": "markdown",
   "metadata": {
    "id": "Zq19raOUIZea"
   },
   "source": [
    "Checking to see whether the remainder is 0 is a good way of checking if one number is an integer multiple of the other number.  The example above shows that 264 is an integer multible of 4, but 1054 is not an integer multiple of 4.  "
   ]
  },
  {
   "cell_type": "markdown",
   "metadata": {
    "id": "rzxvbV6TLcB0"
   },
   "source": [
    "### 1.1.2  Strings and Operations with Strings\n",
    "In python, strings can be defined using either single or double quotes.\n",
    "```\n",
    "w='we are learning python'\n",
    "w=\"we are learning python\"\n",
    "```"
   ]
  },
  {
   "cell_type": "code",
   "execution_count": 1,
   "metadata": {
    "colab": {
     "base_uri": "https://localhost:8080/"
    },
    "id": "3HnTxPk8aeDd",
    "outputId": "1e282bd9-4bd2-42ff-806b-6fa9248b3e97"
   },
   "outputs": [
    {
     "data": {
      "text/plain": [
       "str"
      ]
     },
     "execution_count": 1,
     "metadata": {},
     "output_type": "execute_result"
    }
   ],
   "source": [
    "s='string'\n",
    "type(s)"
   ]
  },
  {
   "cell_type": "code",
   "execution_count": null,
   "metadata": {
    "colab": {
     "base_uri": "https://localhost:8080/"
    },
    "id": "TClY0XmtLaH9",
    "outputId": "aef4086e-4e37-4e3f-edd4-789b7039ade7"
   },
   "outputs": [
    {
     "name": "stdout",
     "output_type": "stream",
     "text": [
      "we are learning python\n"
     ]
    }
   ],
   "source": [
    "w='we are learning python'\n",
    "print(w)"
   ]
  },
  {
   "cell_type": "code",
   "execution_count": null,
   "metadata": {
    "colab": {
     "base_uri": "https://localhost:8080/"
    },
    "id": "SOCD2RouMtxq",
    "outputId": "2cd575ea-34fb-4b5b-f247-4d9d78caf6d6"
   },
   "outputs": [
    {
     "name": "stdout",
     "output_type": "stream",
     "text": [
      "we are learning python\n"
     ]
    }
   ],
   "source": [
    "w=\"we are learning python\"\n",
    "print(w)"
   ]
  },
  {
   "cell_type": "markdown",
   "metadata": {
    "id": "dcd4eM0WMyls"
   },
   "source": [
    "#### Indexing Strings\n",
    "Each character in a string is associated with an index.  Imagine each character in the string lives in a box and that box has a number 0,1,2.  Those numbers are the indices used to identify the characters in the string.\n",
    "\n",
    "|0|1|2|3|4|5|6|7|8|9|10|11|12|13|14|15|16|17|18|19|20|21|\n",
    "|-|-|-|-|-|-|-|-|-|-|-|-|-|-|-|-|-|-|-|-|-|-|\n",
    "|w|e| |a|r|e| |l|e|a|r|n|i|n|g| |p|y|t|h|o|n|"
   ]
  },
  {
   "cell_type": "markdown",
   "metadata": {
    "id": "xkuJMpxNOowx"
   },
   "source": [
    "We can then ask python questions like: \"what character is in box 0\".  In Python syntax, this looks like:\n",
    "\n",
    "```\n",
    "w[0] <--- the first character in the string\n",
    "```\n",
    "\n",
    "```\n",
    "w[21] <--- the last character in the string\n",
    "```"
   ]
  },
  {
   "cell_type": "code",
   "execution_count": 2,
   "metadata": {
    "colab": {
     "base_uri": "https://localhost:8080/"
    },
    "id": "xpsexsC2OlEf",
    "outputId": "2a94c569-8f6a-4864-a5e5-9dbc7dad422c"
   },
   "outputs": [
    {
     "name": "stdout",
     "output_type": "stream",
     "text": [
      "w\n"
     ]
    }
   ],
   "source": [
    "w=\"we are learning python\"\n",
    "print(w[0])"
   ]
  },
  {
   "cell_type": "code",
   "execution_count": 3,
   "metadata": {
    "colab": {
     "base_uri": "https://localhost:8080/"
    },
    "id": "hIcNNmE_PKOu",
    "outputId": "f88b0263-80f8-4ffc-b748-4f576ffc34dc"
   },
   "outputs": [
    {
     "name": "stdout",
     "output_type": "stream",
     "text": [
      "n\n"
     ]
    }
   ],
   "source": [
    "w=\"we are learning python\"\n",
    "print(w[21])"
   ]
  },
  {
   "cell_type": "markdown",
   "metadata": {
    "id": "5YivYu7aPVd_"
   },
   "source": [
    "What happens if we try to access an index that is beyond the last character in the string?  Try\n",
    "```\n",
    "w[22]\n",
    "```"
   ]
  },
  {
   "cell_type": "code",
   "execution_count": 4,
   "metadata": {
    "id": "gLhSuPf6Pzpn"
   },
   "outputs": [
    {
     "ename": "IndexError",
     "evalue": "string index out of range",
     "output_type": "error",
     "traceback": [
      "\u001b[31m---------------------------------------------------------------------------\u001b[39m",
      "\u001b[31mIndexError\u001b[39m                                Traceback (most recent call last)",
      "\u001b[36mCell\u001b[39m\u001b[36m \u001b[39m\u001b[32mIn[4]\u001b[39m\u001b[32m, line 2\u001b[39m\n\u001b[32m      1\u001b[39m w=\u001b[33m\"\u001b[39m\u001b[33mwe are learning python\u001b[39m\u001b[33m\"\u001b[39m\n\u001b[32m----> \u001b[39m\u001b[32m2\u001b[39m \u001b[38;5;28mprint\u001b[39m(\u001b[43mw\u001b[49m\u001b[43m[\u001b[49m\u001b[32;43m22\u001b[39;49m\u001b[43m]\u001b[49m)\n",
      "\u001b[31mIndexError\u001b[39m: string index out of range"
     ]
    }
   ],
   "source": [
    "w=\"we are learning python\"\n",
    "print(w[22])"
   ]
  },
  {
   "cell_type": "markdown",
   "metadata": {
    "id": "DosR8c2jP64_"
   },
   "source": [
    "There are other ways to access the last character in the string that can avoid the error.  Start by finding the length of the string with,\n",
    "```\n",
    "len(w)\n",
    "```\n",
    "Then find the character in string w at index ```[len(w)-1]```.\n",
    "```\n",
    "w[len(w)-1]\n",
    "```"
   ]
  },
  {
   "cell_type": "code",
   "execution_count": 8,
   "metadata": {
    "id": "lQHdbNyoQJ2y"
   },
   "outputs": [
    {
     "name": "stdout",
     "output_type": "stream",
     "text": [
      "n\n"
     ]
    }
   ],
   "source": [
    "w=\"we are learning python\"\n",
    "print(w[len(w)-1])"
   ]
  },
  {
   "cell_type": "code",
   "execution_count": 6,
   "metadata": {
    "id": "qCr0txPicQBp"
   },
   "outputs": [
    {
     "data": {
      "text/plain": [
       "22"
      ]
     },
     "execution_count": 6,
     "metadata": {},
     "output_type": "execute_result"
    }
   ],
   "source": [
    "len(w)"
   ]
  },
  {
   "cell_type": "markdown",
   "metadata": {
    "id": "mirlvpzaTgVP"
   },
   "source": [
    "Another good way to find the last character in a string is to use the ```[-1]``` index.\n",
    "```\n",
    "w[-1]\n",
    "```"
   ]
  },
  {
   "cell_type": "code",
   "execution_count": 9,
   "metadata": {
    "id": "I2gNIGZkUQj8"
   },
   "outputs": [
    {
     "name": "stdout",
     "output_type": "stream",
     "text": [
      "n\n"
     ]
    }
   ],
   "source": [
    "w=\"we are learning python\"\n",
    "print(w[-1])"
   ]
  },
  {
   "cell_type": "code",
   "execution_count": 10,
   "metadata": {
    "id": "FYR-gvh5cm_r"
   },
   "outputs": [
    {
     "data": {
      "text/plain": [
       "'h'"
      ]
     },
     "execution_count": 10,
     "metadata": {},
     "output_type": "execute_result"
    }
   ],
   "source": [
    "w[-3]"
   ]
  },
  {
   "cell_type": "markdown",
   "metadata": {
    "id": "HVC_6gLIUVXG"
   },
   "source": [
    "Notice that if we try to apply these same methods to numbers, we run into errors. Indexing is an operation that works with strings but not with numbers.  Try:\n",
    "```\n",
    "len(435)\n",
    "```"
   ]
  },
  {
   "cell_type": "code",
   "execution_count": 12,
   "metadata": {
    "id": "xEkZWGHWc172"
   },
   "outputs": [
    {
     "ename": "TypeError",
     "evalue": "object of type 'int' has no len()",
     "output_type": "error",
     "traceback": [
      "\u001b[31m---------------------------------------------------------------------------\u001b[39m",
      "\u001b[31mTypeError\u001b[39m                                 Traceback (most recent call last)",
      "\u001b[36mCell\u001b[39m\u001b[36m \u001b[39m\u001b[32mIn[12]\u001b[39m\u001b[32m, line 1\u001b[39m\n\u001b[32m----> \u001b[39m\u001b[32m1\u001b[39m \u001b[38;5;28;43mlen\u001b[39;49m\u001b[43m(\u001b[49m\u001b[32;43m435\u001b[39;49m\u001b[43m)\u001b[49m\n",
      "\u001b[31mTypeError\u001b[39m: object of type 'int' has no len()"
     ]
    }
   ],
   "source": [
    "len(435)"
   ]
  },
  {
   "cell_type": "markdown",
   "metadata": {
    "id": "64Ss-bz2Uk25"
   },
   "source": [
    "#### Exercise\n",
    "Do a web search to see if you can figure out how to change a number to a string and a string into a number in python. This will come in handy over and over again.  "
   ]
  },
  {
   "cell_type": "code",
   "execution_count": 33,
   "metadata": {
    "id": "hxFNaIEqU1AO"
   },
   "outputs": [
    {
     "name": "stdout",
     "output_type": "stream",
     "text": [
      "4 <class 'int'>\n"
     ]
    }
   ],
   "source": [
    "# Change int into str\n",
    "w = 4\n",
    "str(w)\n",
    "\n",
    "print(w, type(w))"
   ]
  },
  {
   "cell_type": "code",
   "execution_count": 34,
   "metadata": {
    "id": "ZOg8GdQWU4Ph"
   },
   "outputs": [
    {
     "name": "stdout",
     "output_type": "stream",
     "text": [
      "4 <class 'str'>\n"
     ]
    }
   ],
   "source": [
    "# Change str into int\n",
    "w = '4'\n",
    "int(w)\n",
    "\n",
    "print(w, type(w))"
   ]
  },
  {
   "cell_type": "markdown",
   "metadata": {
    "id": "TbgQgGjTVHq4"
   },
   "source": [
    "Make a note of where you found the answer.  Many may have looked at www.stackoverflow.com.  This site will be your friend in the future.  "
   ]
  },
  {
   "cell_type": "markdown",
   "metadata": {
    "id": "DJpmkVO7Vigf"
   },
   "source": [
    "#### Challenge Problem\n",
    "Write a program to add up the digits in the number 435 using indexing."
   ]
  },
  {
   "cell_type": "code",
   "execution_count": 38,
   "metadata": {
    "id": "NZH1Qu3pVusn"
   },
   "outputs": [
    {
     "name": "stdout",
     "output_type": "stream",
     "text": [
      "12 <class 'int'>\n"
     ]
    }
   ],
   "source": [
    "n=435\n",
    "# your code\n",
    "result = int(str(n)[0]) + int(str(n)[1])  + int(str(n)[2])\n",
    "print(result, type(result))"
   ]
  },
  {
   "cell_type": "markdown",
   "metadata": {
    "id": "_1pKOhFIWDhk"
   },
   "source": [
    "In the next lesson, we will learn more efficient techniques to help with this."
   ]
  },
  {
   "cell_type": "markdown",
   "metadata": {
    "id": "y4cbc6UNWMnZ"
   },
   "source": [
    "### 1.1.3 Slicing and Stepping\n",
    "Slicing is an operation used to select a portion of a string using the following format.\n",
    "```\n",
    "string[start:end]\n",
    "```\n",
    "For example:\n",
    "```\n",
    "s[1:-1]\n",
    "```\n",
    "takes the portion of the string that excudes the first and last character.  \n",
    "```\n",
    "s[1:]\n",
    "```\n",
    "yields the portion of the string that excludes the first character, but includes everything else.\n",
    "```\n",
    "s[:-1]\n",
    "```\n",
    "includes everything in the string except for the last character."
   ]
  },
  {
   "cell_type": "code",
   "execution_count": 39,
   "metadata": {
    "id": "uF5JlJkXWLT8"
   },
   "outputs": [
    {
     "data": {
      "text/plain": [
       "'bcdefghi'"
      ]
     },
     "execution_count": 39,
     "metadata": {},
     "output_type": "execute_result"
    }
   ],
   "source": [
    "s='abcdefghij'\n",
    "s[1:-1]"
   ]
  },
  {
   "cell_type": "code",
   "execution_count": 40,
   "metadata": {
    "id": "1FeNM8bLmLGK"
   },
   "outputs": [
    {
     "data": {
      "text/plain": [
       "'bcdefghij'"
      ]
     },
     "execution_count": 40,
     "metadata": {},
     "output_type": "execute_result"
    }
   ],
   "source": [
    "s='abcdefghij'\n",
    "s[1:]"
   ]
  },
  {
   "cell_type": "code",
   "execution_count": 44,
   "metadata": {
    "id": "_o8SHch2mK45"
   },
   "outputs": [
    {
     "data": {
      "text/plain": [
       "'abcdefghi'"
      ]
     },
     "execution_count": 44,
     "metadata": {},
     "output_type": "execute_result"
    }
   ],
   "source": [
    "s='abcdefghij'\n",
    "s[:-1]"
   ]
  },
  {
   "cell_type": "markdown",
   "metadata": {
    "id": "vuWcbttGme5Y"
   },
   "source": [
    "#### Exercise\n",
    "Try slicing all characters from the string ```s='abcdefghij'``` except for the last three."
   ]
  },
  {
   "cell_type": "code",
   "execution_count": 42,
   "metadata": {
    "id": "kbCMQWX9mKek"
   },
   "outputs": [
    {
     "data": {
      "text/plain": [
       "'abcdefg'"
      ]
     },
     "execution_count": 42,
     "metadata": {},
     "output_type": "execute_result"
    }
   ],
   "source": [
    "s='abcdefghij'\n",
    "# your code\n",
    "s[:-3]"
   ]
  },
  {
   "cell_type": "markdown",
   "metadata": {
    "id": "JPdDSyv5mpne"
   },
   "source": [
    "### Exercise\n",
    "Try slicing all characters from the string ```s='abcdefghij'``` except for the first four."
   ]
  },
  {
   "cell_type": "code",
   "execution_count": 43,
   "metadata": {
    "id": "G7TItUq3mqRl"
   },
   "outputs": [
    {
     "data": {
      "text/plain": [
       "'efghij'"
      ]
     },
     "execution_count": 43,
     "metadata": {},
     "output_type": "execute_result"
    }
   ],
   "source": [
    "s='abcdefghij'\n",
    "# your code\n",
    "s[4:]"
   ]
  },
  {
   "cell_type": "markdown",
   "metadata": {
    "id": "bGxLpQQWneBN"
   },
   "source": [
    "#### Stepping\n",
    "Stepping can be used to slice a string into consistent pieces by indicating a start, end, and a step.  Where the step tells how many characters to skip at each step.\n",
    "```\n",
    "string[start:end:step]\n",
    "```\n",
    "For example:\n",
    "```\n",
    "s[0:-1:2]\n",
    "```\n",
    "Would return every other character and exclude the last character."
   ]
  },
  {
   "cell_type": "code",
   "execution_count": 52,
   "metadata": {
    "id": "9fMslexWoL6G"
   },
   "outputs": [
    {
     "data": {
      "text/plain": [
       "'be'"
      ]
     },
     "execution_count": 52,
     "metadata": {},
     "output_type": "execute_result"
    }
   ],
   "source": [
    "s='abcdefghij'\n",
    "# your code\n",
    "# s[0::2]\n",
    "# s[0:-1:2]\n",
    "# s[::]\n",
    "s[1:6:3]"
   ]
  },
  {
   "cell_type": "markdown",
   "metadata": {
    "id": "8SwWhdtcoTi9"
   },
   "source": [
    "### 1.1.4 Finding, Splitting, and Concatenating with Strings\n",
    "Here we explore some additional common methods that can be applied to strings to manipulate them in different ways."
   ]
  },
  {
   "cell_type": "markdown",
   "metadata": {
    "id": "7C2CvVsZosQu"
   },
   "source": [
    "#### Using the find() function\n",
    "The find function is a method that can be applied to a string in the form:\n",
    "```\n",
    "s.find('c')\n",
    "```\n",
    "The find method outputs the index of the first instance of the character 'c' in the string."
   ]
  },
  {
   "cell_type": "code",
   "execution_count": 53,
   "metadata": {
    "id": "zjq_IQZzpD6X"
   },
   "outputs": [
    {
     "data": {
      "text/plain": [
       "2"
      ]
     },
     "execution_count": 53,
     "metadata": {},
     "output_type": "execute_result"
    }
   ],
   "source": [
    "s='abcdefghij'\n",
    "# your code\n",
    "s.find('c')"
   ]
  },
  {
   "cell_type": "markdown",
   "metadata": {
    "id": "oUsjTA0ZpIX8"
   },
   "source": [
    "What happens if the character we search for cannot be found in the string. Try:\n",
    "```\n",
    "s.find('z')\n",
    "```\n",
    "to see the result."
   ]
  },
  {
   "cell_type": "code",
   "execution_count": 54,
   "metadata": {
    "id": "9PzALEMRpWKt"
   },
   "outputs": [
    {
     "data": {
      "text/plain": [
       "-1"
      ]
     },
     "execution_count": 54,
     "metadata": {},
     "output_type": "execute_result"
    }
   ],
   "source": [
    "s='abcdefghij'\n",
    "# your code\n",
    "s.find('z')"
   ]
  },
  {
   "cell_type": "markdown",
   "metadata": {
    "id": "qzutBiLbpaSu"
   },
   "source": [
    "When you do this, the result is a -1 which is the way python communicates that the character 'z' does not exist in the string.  "
   ]
  },
  {
   "cell_type": "markdown",
   "metadata": {
    "id": "Y9EHcHNDpqU7"
   },
   "source": [
    "#### Splitting a String\n",
    "We can separate a string into its elements using the split() method. The following use of the split method will split on each space:\n",
    "```\n",
    "w='we are learning python'\n",
    "w.split(' ')\n",
    "```\n",
    "We can chosee the character that is used to split the string.  Here is another example to illustrate.\n",
    "```\n",
    "t='this.is.fun'\n",
    "t.split('.')\n",
    "```"
   ]
  },
  {
   "cell_type": "code",
   "execution_count": 55,
   "metadata": {
    "id": "PexXQNDeqWXT"
   },
   "outputs": [
    {
     "data": {
      "text/plain": [
       "['we', 'are', 'learning', 'python']"
      ]
     },
     "execution_count": 55,
     "metadata": {},
     "output_type": "execute_result"
    }
   ],
   "source": [
    "w='we are learning python'\n",
    "w.split(' ')"
   ]
  },
  {
   "cell_type": "code",
   "execution_count": 56,
   "metadata": {
    "id": "CsqLXj7oqYan"
   },
   "outputs": [
    {
     "data": {
      "text/plain": [
       "['this', 'is', 'fun']"
      ]
     },
     "execution_count": 56,
     "metadata": {},
     "output_type": "execute_result"
    }
   ],
   "source": [
    "t='this.is.fun'\n",
    "t.split('.')"
   ]
  },
  {
   "cell_type": "markdown",
   "metadata": {
    "id": "4nO_3aBmqcbz"
   },
   "source": [
    "Note the format of the output when we use the split method. It is a Python data type called a list.  We will become very familiar with lists in future lessons."
   ]
  },
  {
   "cell_type": "markdown",
   "metadata": {
    "id": "vfc-VhnGqp-N"
   },
   "source": [
    "#### Concatenating a String\n",
    "We can actually add strings together using the + operator.  We might try the following:\n",
    "```\n",
    "'we'+'are'+'learning'+'python'\n",
    "```\n",
    "The result would be:\n",
    "```\n",
    "'wearelearningpython'\n",
    "```\n",
    "So we could add in spaces between the words to make the sentence make sense:\n",
    "```\n",
    "'we'+' '+'are'+' '+'learning'+' '+'python'\n",
    "```"
   ]
  },
  {
   "cell_type": "code",
   "execution_count": 57,
   "metadata": {
    "id": "PPw6-rXustWO"
   },
   "outputs": [
    {
     "data": {
      "text/plain": [
       "'wearelearningpython'"
      ]
     },
     "execution_count": 57,
     "metadata": {},
     "output_type": "execute_result"
    }
   ],
   "source": [
    "'we'+'are'+'learning'+'python'"
   ]
  },
  {
   "cell_type": "code",
   "execution_count": 58,
   "metadata": {
    "id": "uL_m3KFUsxxs"
   },
   "outputs": [
    {
     "data": {
      "text/plain": [
       "'we are learning python'"
      ]
     },
     "execution_count": 58,
     "metadata": {},
     "output_type": "execute_result"
    }
   ],
   "source": [
    "'we'+' '+'are'+' '+'learning'+' '+'python'"
   ]
  },
  {
   "cell_type": "markdown",
   "metadata": {
    "id": "x7OAnBXCs3ai"
   },
   "source": [
    "#### Exercise\n",
    "If you're thinking that there should be an easier way to combine strings into one, you're right.  Try searching something like \"connect strings in Python with a space\".  See what you find.  "
   ]
  },
  {
   "cell_type": "code",
   "execution_count": 60,
   "metadata": {
    "id": "gtt6GpKttV9x"
   },
   "outputs": [
    {
     "name": "stdout",
     "output_type": "stream",
     "text": [
      "we are learning python\n"
     ]
    }
   ],
   "source": [
    "r=['we','are','learning','python']\n",
    "# connect the words to the result is: 'we are learning python'\n",
    "\n",
    "r_joined = \" \".join(r)\n",
    "print(r_joined)"
   ]
  },
  {
   "cell_type": "markdown",
   "metadata": {
    "id": "hG7M-JtBuaTh"
   },
   "source": [
    "### 1.1.5 Booleans and Comparisons\n",
    "Booleans are expressions of True or False.  These become useful when we need to write functions (reusable code) in the future.\n",
    "\n",
    "Let's start by setting variable to equal True and False. Notice the capitalization.\n",
    "```\n",
    "t=True\n",
    "f=False\n",
    "```\n",
    "Then check the data types for t and f:\n",
    "```\n",
    "type(t)\n",
    "type(f)\n",
    "```"
   ]
  },
  {
   "cell_type": "code",
   "execution_count": 61,
   "metadata": {
    "id": "a42E8sj8wqmX"
   },
   "outputs": [
    {
     "name": "stdout",
     "output_type": "stream",
     "text": [
      "<class 'bool'>\n",
      "<class 'bool'>\n"
     ]
    }
   ],
   "source": [
    "t=True\n",
    "f=False\n",
    "\n",
    "print(type(t))\n",
    "print(type(f))"
   ]
  },
  {
   "cell_type": "markdown",
   "metadata": {
    "id": "ASzPaYcuwypd"
   },
   "source": [
    "Note that the boolean values True and False are pre-defined, meaning they already exist in the Python language."
   ]
  },
  {
   "cell_type": "markdown",
   "metadata": {
    "id": "Z3QkY-_BxEXA"
   },
   "source": [
    "There is some not-so-obvious behavior worth knowing about relating to boolean values.  We can use the ```bool()``` function to check the Boolean value of an expression.  Try:\n",
    "```\n",
    "a=0\n",
    "bool(a)\n",
    "```\n",
    "and\n",
    "```\n",
    "b=''\n",
    "bool(b)\n",
    "```"
   ]
  },
  {
   "cell_type": "code",
   "execution_count": 62,
   "metadata": {
    "id": "8UrPvEj3yxGR"
   },
   "outputs": [
    {
     "data": {
      "text/plain": [
       "False"
      ]
     },
     "execution_count": 62,
     "metadata": {},
     "output_type": "execute_result"
    }
   ],
   "source": [
    "a=0\n",
    "bool(a)"
   ]
  },
  {
   "cell_type": "code",
   "execution_count": 63,
   "metadata": {
    "id": "Cds3-YQXy01x"
   },
   "outputs": [
    {
     "data": {
      "text/plain": [
       "False"
      ]
     },
     "execution_count": 63,
     "metadata": {},
     "output_type": "execute_result"
    }
   ],
   "source": [
    "b=''\n",
    "bool(b)"
   ]
  },
  {
   "cell_type": "markdown",
   "metadata": {
    "id": "BaCwCfscy5sq"
   },
   "source": [
    "In short, any object with a 0 or 'Null' value has a boolean equivalent of False in Python.  \n",
    "\n",
    "Any object that does have a value has a boolean value of True in Python.  For example:\n",
    "```\n",
    "c=9\n",
    "bool(c)\n",
    "```"
   ]
  },
  {
   "cell_type": "code",
   "execution_count": 66,
   "metadata": {
    "id": "3zlT_Leh18pv"
   },
   "outputs": [
    {
     "data": {
      "text/plain": [
       "True"
      ]
     },
     "execution_count": 66,
     "metadata": {},
     "output_type": "execute_result"
    }
   ],
   "source": [
    "c=9\n",
    "bool(c)"
   ]
  },
  {
   "cell_type": "code",
   "execution_count": null,
   "metadata": {
    "id": "3yz1x5BR2Adb"
   },
   "outputs": [],
   "source": [
    "d='yes'\n",
    "bool(d)"
   ]
  },
  {
   "cell_type": "markdown",
   "metadata": {
    "id": "WewfeBky1paI"
   },
   "source": [
    "#### Comparisons\n",
    "Booleans are often used in the context of comparisons.  There are two main types of comparisons, relational and logical.  "
   ]
  },
  {
   "cell_type": "markdown",
   "metadata": {
    "id": "PJ-pknA_1ybW"
   },
   "source": [
    "#### Relational comparisons\n",
    "A comparison operator in python, also called python relational operator, compares the values of two operands and returns True or False based on whether the condition is met  \n",
    "\n",
    "|Syntax |Usage |Interpretation|\n",
    "|--|--|--|\n",
    "|==|x==y|True if x is equal to y|\n",
    "|<|x<y|True if x is less than y|\n",
    "|>|x>y|True if x is greater than y|\n",
    "|<=|x<=y|True if x is less than or equal to y|\n",
    "|>=|x>=y|True if x is greater than or equal to y|\n"
   ]
  },
  {
   "cell_type": "code",
   "execution_count": 72,
   "metadata": {
    "id": "-ZYBVqlO2LFk"
   },
   "outputs": [
    {
     "data": {
      "text/plain": [
       "False"
      ]
     },
     "execution_count": 72,
     "metadata": {},
     "output_type": "execute_result"
    }
   ],
   "source": [
    "# try it out\n",
    "x=4\n",
    "y=5\n",
    "x==y"
   ]
  },
  {
   "cell_type": "code",
   "execution_count": 73,
   "metadata": {
    "id": "_tpBrQgs2i6e"
   },
   "outputs": [
    {
     "data": {
      "text/plain": [
       "True"
      ]
     },
     "execution_count": 73,
     "metadata": {},
     "output_type": "execute_result"
    }
   ],
   "source": [
    "# try it out\n",
    "x=4\n",
    "y=5\n",
    "x<y"
   ]
  },
  {
   "cell_type": "code",
   "execution_count": 74,
   "metadata": {
    "id": "4tl8OYPa2n_G"
   },
   "outputs": [
    {
     "data": {
      "text/plain": [
       "False"
      ]
     },
     "execution_count": 74,
     "metadata": {},
     "output_type": "execute_result"
    }
   ],
   "source": [
    "# try it out\n",
    "x=4\n",
    "y=5\n",
    "x>y"
   ]
  },
  {
   "cell_type": "code",
   "execution_count": 75,
   "metadata": {
    "id": "p5z7-yUS2sJO"
   },
   "outputs": [
    {
     "data": {
      "text/plain": [
       "True"
      ]
     },
     "execution_count": 75,
     "metadata": {},
     "output_type": "execute_result"
    }
   ],
   "source": [
    "# try it out\n",
    "x=4\n",
    "y=5\n",
    "x<=y"
   ]
  },
  {
   "cell_type": "code",
   "execution_count": 71,
   "metadata": {
    "id": "yCgOyBlY2roB"
   },
   "outputs": [
    {
     "data": {
      "text/plain": [
       "False"
      ]
     },
     "execution_count": 71,
     "metadata": {},
     "output_type": "execute_result"
    }
   ],
   "source": [
    "# try it out\n",
    "x=4\n",
    "y=5\n",
    "x>=y"
   ]
  },
  {
   "cell_type": "markdown",
   "metadata": {
    "id": "jpVLCJQl20NY"
   },
   "source": [
    "#### Logical Comparisons\n",
    "Logical operators are typically used to evaluate whether two or more expressions are true or not true. For example, they can be used to determine if the grade is passing and that the student is registered in the course, and if both cases are true then the student will be assigned a grade in the system. Another example would be to determine whether a user is a valid active customer of an online shop based on whether they have store credit or have made a purchase in the past 6 months. [Source](https://www.digitalocean.com/community/tutorials/understanding-boolean-logic-in-python-3)\n",
    "\n",
    "|Syntax|Usage|Interpretation|\n",
    "|--|--|--|\n",
    "|not|not x|True if x is False|\n",
    "|and|x and y|True if both x and y are True|\n",
    "|or|x or y|True if either x or y is True|\n",
    "\n",
    "Let's try to get the hang of how this works with some exercises."
   ]
  },
  {
   "cell_type": "markdown",
   "metadata": {
    "id": "ncSz5glk4NME"
   },
   "source": [
    "Set the following variables:\n",
    "```\n",
    "x=4\n",
    "y=5\n",
    "```\n",
    "\n",
    "Try to predict whether the following will be True or False.\n",
    "\n",
    "|comparison|Boolean value|\n",
    "|--|--|\n",
    "|x>2 and y>2|<input type=\"checkbox\">True <input type=\"checkbox\">False|\n",
    "|x>2 and y<2|<input type=\"checkbox\">True <input type=\"checkbox\">False|\n",
    "|x<2 and y<2|<input type=\"checkbox\">True <input type=\"checkbox\">False|\n",
    "|x>2 or y>2|<input type=\"checkbox\">True <input type=\"checkbox\">False|\n",
    "|x<2 or y>2|<input type=\"checkbox\">True <input type=\"checkbox\">False|\n",
    "|x<2 or y<2|<input type=\"checkbox\">True <input type=\"checkbox\">False|  \n",
    "|not(x>2 or y>2)|<input type=\"checkbox\">True <input type=\"checkbox\">False|"
   ]
  },
  {
   "cell_type": "code",
   "execution_count": 81,
   "metadata": {
    "id": "eejHGMQn42PR"
   },
   "outputs": [
    {
     "data": {
      "text/plain": [
       "True"
      ]
     },
     "execution_count": 81,
     "metadata": {},
     "output_type": "execute_result"
    }
   ],
   "source": [
    "x=4\n",
    "y=5\n",
    "x>2 and y>2"
   ]
  },
  {
   "cell_type": "code",
   "execution_count": 77,
   "metadata": {
    "id": "L18YO8QP554Z"
   },
   "outputs": [
    {
     "data": {
      "text/plain": [
       "False"
      ]
     },
     "execution_count": 77,
     "metadata": {},
     "output_type": "execute_result"
    }
   ],
   "source": [
    "x=4\n",
    "y=5\n",
    "x>2 and y<2"
   ]
  },
  {
   "cell_type": "code",
   "execution_count": 78,
   "metadata": {
    "id": "y_PkAWKE5_6s"
   },
   "outputs": [
    {
     "data": {
      "text/plain": [
       "False"
      ]
     },
     "execution_count": 78,
     "metadata": {},
     "output_type": "execute_result"
    }
   ],
   "source": [
    "x=4\n",
    "y=5\n",
    "x<2 and y>2"
   ]
  },
  {
   "cell_type": "code",
   "execution_count": 79,
   "metadata": {
    "id": "uA5D3OUx5_3B"
   },
   "outputs": [
    {
     "data": {
      "text/plain": [
       "True"
      ]
     },
     "execution_count": 79,
     "metadata": {},
     "output_type": "execute_result"
    }
   ],
   "source": [
    "x=4\n",
    "y=5\n",
    "x>2 or y>2"
   ]
  },
  {
   "cell_type": "code",
   "execution_count": null,
   "metadata": {
    "id": "aXyw-pi75_0X"
   },
   "outputs": [],
   "source": [
    "x=4\n",
    "y=5\n",
    "x<2 or y>2"
   ]
  },
  {
   "cell_type": "code",
   "execution_count": null,
   "metadata": {
    "id": "YQ9OEjwG5_m1"
   },
   "outputs": [],
   "source": [
    "x=4\n",
    "y=5\n",
    "x<2 and y<2"
   ]
  },
  {
   "cell_type": "code",
   "execution_count": 80,
   "metadata": {
    "id": "0DlK_owo5_Uf"
   },
   "outputs": [
    {
     "data": {
      "text/plain": [
       "False"
      ]
     },
     "execution_count": 80,
     "metadata": {},
     "output_type": "execute_result"
    }
   ],
   "source": [
    "x=4\n",
    "y=5\n",
    "not(x>2 or y>2)"
   ]
  },
  {
   "cell_type": "markdown",
   "metadata": {
    "id": "LdFpnfGH7rYr"
   },
   "source": [
    "### 1.1.6 Variables and Assignment\n",
    "Variables must be assigned before you can use them.  ```name=expression```.  Expressions (values) must be 'evaluable' that is, they must contain other expressions that are already defined in python.  \n",
    "\n",
    "**Types of Assignment**\n",
    "There are four main types of assignment in Python:\n",
    "\n",
    "**Simple Assignment**\n",
    "```\n",
    "x=6\n",
    "```\n",
    "\n",
    "**Multiple Assignment**\n",
    "```\n",
    "x=y=5\n",
    "```\n",
    "\n",
    "**Unpacking Assignment**\n",
    "```\n",
    "x,y=2,4\n",
    "```\n",
    "\n",
    "**Augmented Assignment/Reassignment (x must already be assigned a value)**\n",
    "\n",
    "```x+=2``` is equivalent to ```x=x+2```\n",
    "\n",
    "Let's experiment with Augmented Assignment a bit\n"
   ]
  },
  {
   "cell_type": "code",
   "execution_count": 83,
   "metadata": {
    "id": "g-kLY4b-9LXf"
   },
   "outputs": [],
   "source": [
    "x=6\n",
    "x+=2\n",
    "x+=2\n",
    "x+=2"
   ]
  },
  {
   "cell_type": "markdown",
   "metadata": {
    "id": "KUFHYa9j9TNy"
   },
   "source": [
    "Now, what is x?"
   ]
  },
  {
   "cell_type": "code",
   "execution_count": 84,
   "metadata": {
    "id": "9oB9mfpy9rnn"
   },
   "outputs": [
    {
     "data": {
      "text/plain": [
       "12"
      ]
     },
     "execution_count": 84,
     "metadata": {},
     "output_type": "execute_result"
    }
   ],
   "source": [
    "x"
   ]
  },
  {
   "cell_type": "code",
   "execution_count": null,
   "metadata": {},
   "outputs": [],
   "source": []
  }
 ],
 "metadata": {
  "colab": {
   "collapsed_sections": [
    "FC4OrUaQ0AD8",
    "-ckpi-C72A6E",
    "RXFB8dG12Rc9"
   ],
   "provenance": []
  },
  "kernelspec": {
   "display_name": "Python 3 (ipykernel)",
   "language": "python",
   "name": "python3"
  },
  "language_info": {
   "codemirror_mode": {
    "name": "ipython",
    "version": 3
   },
   "file_extension": ".py",
   "mimetype": "text/x-python",
   "name": "python",
   "nbconvert_exporter": "python",
   "pygments_lexer": "ipython3",
   "version": "3.13.5"
  }
 },
 "nbformat": 4,
 "nbformat_minor": 4
}
