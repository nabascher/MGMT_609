{
 "cells": [
  {
   "cell_type": "markdown",
   "metadata": {
    "id": "11XgkPJPLC9X"
   },
   "source": [
    "### String Operations\n",
    "\n",
    "Create a function called string_opp() that accepts a string and outputs the first and last character of the string along with the string without the first and last characters.\n",
    "\n",
    "For example, if the function accepts the string `s='Good Morning'`, the output should be `('G', 'g', 'ood Mornin')`."
   ]
  },
  {
   "cell_type": "code",
   "execution_count": 16,
   "metadata": {
    "id": "K99ujrMuLBzb"
   },
   "outputs": [],
   "source": [
    "def string_opp(stg):\n",
    "    # a. first and last char.\n",
    "    first = stg[0]\n",
    "    last = stg[-1]\n",
    "\n",
    "    # b. remove first and last char.\n",
    "    rm_first_last = stg[1:-1]\n",
    "\n",
    "    # output the result\n",
    "    result = f\"{first}, {last}, {rm_first_last}\"\n",
    "    return result"
   ]
  },
  {
   "cell_type": "markdown",
   "metadata": {
    "id": "J8m-bwQ1LWwK"
   },
   "source": [
    "### Test the function"
   ]
  },
  {
   "cell_type": "code",
   "execution_count": 17,
   "metadata": {
    "colab": {
     "base_uri": "https://localhost:8080/"
    },
    "id": "haOrBmH7LZhT",
    "outputId": "b04820a9-e8fd-48a0-8e96-f9c9ff29c575"
   },
   "outputs": [
    {
     "name": "stdout",
     "output_type": "stream",
     "text": [
      "G, g, ood Mornin\n"
     ]
    }
   ],
   "source": [
    "s='Good Morning'\n",
    "print(string_opp(s)) # Expected output is ('G','g','ood Mornin')"
   ]
  },
  {
   "cell_type": "code",
   "execution_count": 18,
   "metadata": {
    "colab": {
     "base_uri": "https://localhost:8080/"
    },
    "id": "TxoV3Y40xXdv",
    "outputId": "f72da6e8-2c9a-4503-a168-0bed0ce8d40a"
   },
   "outputs": [
    {
     "name": "stdout",
     "output_type": "stream",
     "text": [
      "C, ?, an you just bring me my chapstick\n"
     ]
    }
   ],
   "source": [
    "y='Can you just bring me my chapstick?'\n",
    "print(string_opp(y)) # Expected output is ('G','g','ood Mornin')"
   ]
  },
  {
   "cell_type": "code",
   "execution_count": null,
   "metadata": {},
   "outputs": [],
   "source": []
  }
 ],
 "metadata": {
  "colab": {
   "provenance": []
  },
  "kernelspec": {
   "display_name": "Python 3 (ipykernel)",
   "language": "python",
   "name": "python3"
  },
  "language_info": {
   "codemirror_mode": {
    "name": "ipython",
    "version": 3
   },
   "file_extension": ".py",
   "mimetype": "text/x-python",
   "name": "python",
   "nbconvert_exporter": "python",
   "pygments_lexer": "ipython3",
   "version": "3.13.5"
  }
 },
 "nbformat": 4,
 "nbformat_minor": 4
}
