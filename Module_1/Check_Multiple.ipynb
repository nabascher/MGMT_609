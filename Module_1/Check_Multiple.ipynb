{
  "nbformat": 4,
  "nbformat_minor": 0,
  "metadata": {
    "colab": {
      "provenance": []
    },
    "kernelspec": {
      "name": "python3",
      "display_name": "Python 3"
    },
    "language_info": {
      "name": "python"
    }
  },
  "cells": [
    {
      "cell_type": "markdown",
      "source": [
        "1. Write a short function called check_multiple() to check if a number, x, is an integer multiple of another number, y. If yes, output True, if no, output False."
      ],
      "metadata": {
        "id": "3E-k_ez6V7kS"
      }
    },
    {
      "cell_type": "code",
      "execution_count": null,
      "metadata": {
        "id": "Wdeg8C1_VJ9y"
      },
      "outputs": [],
      "source": [
        "# YOUR CODE"
      ]
    },
    {
      "cell_type": "markdown",
      "source": [
        "Tests\n",
        "check if 12898 is an integer multiple of 4."
      ],
      "metadata": {
        "id": "gGBE39ivWB_v"
      }
    },
    {
      "cell_type": "code",
      "source": [
        "# YOUR CODE"
      ],
      "metadata": {
        "id": "OX2cccfJWFxK"
      },
      "execution_count": null,
      "outputs": []
    }
  ]
}