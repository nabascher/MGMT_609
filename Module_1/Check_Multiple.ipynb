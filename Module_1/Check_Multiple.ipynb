{
 "cells": [
  {
   "cell_type": "markdown",
   "metadata": {
    "id": "3E-k_ez6V7kS"
   },
   "source": [
    "1. Write a short function called check_multiple() to check if a number, x, is an integer multiple of another number, y. If yes, output True, if no, output False."
   ]
  },
  {
   "cell_type": "code",
   "execution_count": 2,
   "metadata": {
    "id": "Wdeg8C1_VJ9y"
   },
   "outputs": [],
   "source": [
    "# YOUR CODE\n",
    "def check_multiple(x, y):\n",
    "    \n",
    "    # Perform multiple check\n",
    "    if y % x == 0:\n",
    "        return True\n",
    "    else:\n",
    "        return False"
   ]
  },
  {
   "cell_type": "markdown",
   "metadata": {
    "id": "gGBE39ivWB_v"
   },
   "source": [
    "Tests\n",
    "check if 12898 is an integer multiple of 4."
   ]
  },
  {
   "cell_type": "code",
   "execution_count": 6,
   "metadata": {
    "id": "OX2cccfJWFxK"
   },
   "outputs": [
    {
     "data": {
      "text/plain": [
       "False"
      ]
     },
     "execution_count": 6,
     "metadata": {},
     "output_type": "execute_result"
    }
   ],
   "source": [
    "# YOUR CODE\n",
    "check_multiple(4, 9)"
   ]
  }
 ],
 "metadata": {
  "colab": {
   "provenance": []
  },
  "kernelspec": {
   "display_name": "Python 3 (ipykernel)",
   "language": "python",
   "name": "python3"
  },
  "language_info": {
   "codemirror_mode": {
    "name": "ipython",
    "version": 3
   },
   "file_extension": ".py",
   "mimetype": "text/x-python",
   "name": "python",
   "nbconvert_exporter": "python",
   "pygments_lexer": "ipython3",
   "version": "3.13.5"
  }
 },
 "nbformat": 4,
 "nbformat_minor": 4
}
