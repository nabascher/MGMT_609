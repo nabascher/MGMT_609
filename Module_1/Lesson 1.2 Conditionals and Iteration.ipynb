{
 "cells": [
  {
   "cell_type": "markdown",
   "metadata": {
    "id": "EcUAn2_DIbxw"
   },
   "source": [
    "# Lesson 1.2: Conditional Statments and Iteration"
   ]
  },
  {
   "cell_type": "markdown",
   "metadata": {
    "id": "PfF1AMkFAgDQ"
   },
   "source": [
    "### Video Lessons\n",
    "[Conditional Statements and Programs (8:30 min)](https://youtu.be/ivpypUqrx7E)  \n",
    "[Iteration (5:06 min)](https://youtu.be/kQl9HOts67c)"
   ]
  },
  {
   "cell_type": "markdown",
   "metadata": {
    "id": "HjQLmFNOAn1x"
   },
   "source": [
    "### Objectives\n",
    "\n",
    "* Be able to read a conditional scenario and turn it into a python program.\n",
    "* Understand indentation and code blocks in python\n",
    "* Know how to use inputs to make a program dynamic\n",
    "* Be able to use iteration to perform repetitive tasks\n",
    "* Be able to combine conditional statements and iterative processes in order to build more sophisticated programs\n",
    "* Use conditional statements and iteration to automate tasks in business contexts\n",
    "\n"
   ]
  },
  {
   "cell_type": "markdown",
   "metadata": {
    "id": "QHXnGUQPAxFb"
   },
   "source": [
    "### References\n",
    "\n",
    "* Python Programming, An Introduction to Compter Science, John Zelle\n",
    "* Analytics in Python, edX, ColumbiaX - BAMM.101x\n",
    "* www.investor.gov\n",
    "\n"
   ]
  },
  {
   "cell_type": "markdown",
   "metadata": {
    "id": "YQ97FaTyBoaj"
   },
   "source": [
    "### Warm-up Exercises\n",
    "Investigate the following methods in the code blocks below and also by searching the web.  Write comments to explain.\n",
    "\n",
    "The input() function:\n",
    "```\n",
    "input(\"enter a value:\")\n",
    "```\n",
    "The range() function:\n",
    "```\n",
    "range(10)\n",
    "```\n",
    "Concatenating strings and variables:\n",
    "```\n",
    "room=125\n",
    "time=\"2:30pm\"\n",
    "print(\"class meets in room\", room, time)\n",
    "```\n"
   ]
  },
  {
   "cell_type": "code",
   "execution_count": 3,
   "metadata": {
    "colab": {
     "base_uri": "https://localhost:8080/",
     "height": 53
    },
    "executionInfo": {
     "elapsed": 7833,
     "status": "ok",
     "timestamp": 1608063262108,
     "user": {
      "displayName": "Carey Baldwin",
      "photoUrl": "",
      "userId": "06312256696697846549"
     },
     "user_tz": 300
    },
    "id": "sFn9qGkmCaoY",
    "outputId": "889ce7e6-25bb-41f1-d152-b39eb0179b0e"
   },
   "outputs": [
    {
     "name": "stdin",
     "output_type": "stream",
     "text": [
      "Enter value:  1\n"
     ]
    },
    {
     "data": {
      "text/plain": [
       "'1'"
      ]
     },
     "execution_count": 3,
     "metadata": {},
     "output_type": "execute_result"
    }
   ],
   "source": [
    "input(\"Enter value: \")\n",
    "\n",
    "# The input() funtion requests input from the user and takes a string"
   ]
  },
  {
   "cell_type": "code",
   "execution_count": 6,
   "metadata": {
    "colab": {
     "base_uri": "https://localhost:8080/"
    },
    "executionInfo": {
     "elapsed": 426,
     "status": "ok",
     "timestamp": 1608063285645,
     "user": {
      "displayName": "Carey Baldwin",
      "photoUrl": "",
      "userId": "06312256696697846549"
     },
     "user_tz": 300
    },
    "id": "T_AUW15-Caiw",
    "outputId": "b7097dcb-1313-4666-9986-f7721dc80950"
   },
   "outputs": [
    {
     "data": {
      "text/plain": [
       "range(0, 10)"
      ]
     },
     "execution_count": 6,
     "metadata": {},
     "output_type": "execute_result"
    }
   ],
   "source": [
    "range(10)\n",
    "\n",
    "# The range() function converts a nuymerical value into a sequence or range of numbers. Typically used when looping"
   ]
  },
  {
   "cell_type": "code",
   "execution_count": 8,
   "metadata": {
    "colab": {
     "base_uri": "https://localhost:8080/"
    },
    "executionInfo": {
     "elapsed": 421,
     "status": "ok",
     "timestamp": 1608063297209,
     "user": {
      "displayName": "Carey Baldwin",
      "photoUrl": "",
      "userId": "06312256696697846549"
     },
     "user_tz": 300
    },
    "id": "xnQCuoCkCaVQ",
    "outputId": "b8201954-8064-42f9-8c49-6d9583b93435"
   },
   "outputs": [
    {
     "name": "stdout",
     "output_type": "stream",
     "text": [
      "class meets in room 125 2:30pm\n"
     ]
    }
   ],
   "source": [
    "room=125\n",
    "time=\"2:30pm\"\n",
    "print(\"class meets in room\", room, time)\n",
    "\n",
    "# using commas and include variables will substitute the values into the string in a print() function"
   ]
  },
  {
   "cell_type": "markdown",
   "metadata": {
    "id": "HFDnPOKPCvq-"
   },
   "source": [
    "Write a formula to calculate the percent chance in an account given any starting balance and any ending balance.\n",
    "```\n",
    "start=3000\n",
    "end=3225\n",
    "```\n",
    "```\n",
    "percent_change=(end-start)/start*100\n",
    "```"
   ]
  },
  {
   "cell_type": "code",
   "execution_count": 9,
   "metadata": {
    "colab": {
     "base_uri": "https://localhost:8080/"
    },
    "executionInfo": {
     "elapsed": 1261,
     "status": "ok",
     "timestamp": 1608063500054,
     "user": {
      "displayName": "Carey Baldwin",
      "photoUrl": "",
      "userId": "06312256696697846549"
     },
     "user_tz": 300
    },
    "id": "L0amR3IZDWqM",
    "outputId": "9747a01e-6dcb-4e06-e944-accfde9c49b8"
   },
   "outputs": [
    {
     "data": {
      "text/plain": [
       "7.5"
      ]
     },
     "execution_count": 9,
     "metadata": {},
     "output_type": "execute_result"
    }
   ],
   "source": [
    "# Test it out\n",
    "start=3000\n",
    "end=3225\n",
    "\n",
    "percent_change=(end-start)/start*100\n",
    "percent_change"
   ]
  },
  {
   "cell_type": "markdown",
   "metadata": {
    "id": "F9VHjLVF--of"
   },
   "source": [
    "### Conditional Statements and Programs\n",
    "The “if” statement is used to control the behavior of a python program and in all other programming languages.  The “if” statement allows us to say, “if this condition is true, do this thing, if this condition is false, do nothing or do something else”.  We can model this behavior in a flow chart. ![conditional1](https://drive.google.com/uc?id=1igpPQHf5mF3CdkeaDID84V6_Qaip4qUG)\n",
    "\n",
    "Some examples we can consider are:  \n",
    "* if it's hot out, go swimming\n",
    "* if it's cold out, go sledding\n",
    "\n",
    "\n",
    "![conditional2](https://drive.google.com/uc?id=1dBT8hNofZZzUJf-bxU82GLECHPk-qsqx)"
   ]
  },
  {
   "cell_type": "markdown",
   "metadata": {
    "id": "Cm5oQyeZ--ok"
   },
   "source": [
    "**Conditional program in Python**\n",
    "Write a program that handles a temperature as an input and decides how to respond based on the value of the temperature.  If it is 90 degrees or more, print \"I'm going swimming\", if it is 30 degrees or less, print \"I'm going sledding\"."
   ]
  },
  {
   "cell_type": "code",
   "execution_count": 11,
   "metadata": {
    "id": "csEqgNUX--ol"
   },
   "outputs": [],
   "source": [
    "## set the starting temperature\n",
    "temp=42\n",
    "if temp>=90:\n",
    "  print(\"I'm going swimming\")\n",
    "if temp<=30:\n",
    "  print(\"I'm going sledding\")"
   ]
  },
  {
   "cell_type": "markdown",
   "metadata": {
    "id": "L0jkwOvC--om"
   },
   "source": [
    "Notice that nothing happens when the input temperature is 42.  We haven't handled this case.  Let's make a couple of modifications:"
   ]
  },
  {
   "cell_type": "code",
   "execution_count": 12,
   "metadata": {
    "id": "tM076R11--om"
   },
   "outputs": [
    {
     "name": "stdin",
     "output_type": "stream",
     "text": [
      "Enter a value:  45\n"
     ]
    },
    {
     "data": {
      "text/plain": [
       "'45'"
      ]
     },
     "execution_count": 12,
     "metadata": {},
     "output_type": "execute_result"
    }
   ],
   "source": [
    "# We can set up a variable input using the input function:\n",
    "input(\"Enter a value: \")"
   ]
  },
  {
   "cell_type": "markdown",
   "metadata": {
    "id": "XP0vl3wD--om"
   },
   "source": [
    "Notice that the result of entering a number yields a string, our program needs to take in an integer, so we need to specify an integer input."
   ]
  },
  {
   "cell_type": "code",
   "execution_count": 13,
   "metadata": {
    "id": "vqMpko3U--om"
   },
   "outputs": [
    {
     "name": "stdin",
     "output_type": "stream",
     "text": [
      "Enter a temperature:  10\n"
     ]
    },
    {
     "name": "stdout",
     "output_type": "stream",
     "text": [
      "I'm going sledding\n"
     ]
    }
   ],
   "source": [
    "temp=int(input(\"Enter a temperature: \"))\n",
    "if temp>=90:\n",
    "  print(\"I'm going swimming\")\n",
    "if temp<=30:\n",
    "  print(\"I'm going sledding\")"
   ]
  },
  {
   "cell_type": "markdown",
   "metadata": {
    "id": "OYnwpGNb--on"
   },
   "source": [
    "Next, we should modify the program to handle cases outside the 90 and 30 degree boundaries.  \n",
    "![conditional3](https://drive.google.com/uc?id=1iH3qoO3ED49d6W8KYhqjg5OiZTfRhEdH)  \n",
    "\n",
    "Writing this up in Python looks like:"
   ]
  },
  {
   "cell_type": "code",
   "execution_count": 15,
   "metadata": {
    "id": "H1Y5lYEy--on"
   },
   "outputs": [
    {
     "name": "stdin",
     "output_type": "stream",
     "text": [
      "enter a temperature:  42\n"
     ]
    },
    {
     "name": "stdout",
     "output_type": "stream",
     "text": [
      "I'm going for a bike ride\n"
     ]
    }
   ],
   "source": [
    "temp = int(input(\"enter a temperature: \"))\n",
    "if temp>=90:\n",
    "  print(\"I'm going swimming\")\n",
    "elif temp<=30:\n",
    "  print(\"I'm going sledding\")\n",
    "else:\n",
    "  print(\"I'm going for a bike ride\")"
   ]
  },
  {
   "cell_type": "markdown",
   "metadata": {
    "id": "CGa5zT_GGBoq"
   },
   "source": [
    "Note that when we have more than two conditions to check, we use the ```'elif'``` statement, short for \"else if\"."
   ]
  },
  {
   "cell_type": "markdown",
   "metadata": {
    "id": "1W2f1ndD--on"
   },
   "source": [
    "#### Example: Is it divisible?\n",
    "Write a program that takes in two integer values as inputs.  Write some code to do the following:  If x is divisible by y, print (value of x) is divisible by (value of y).  If x is not divisible by y, print (value of x) is not divisible by (value of y)"
   ]
  },
  {
   "cell_type": "code",
   "execution_count": 16,
   "metadata": {
    "id": "RfQnyzs5--on"
   },
   "outputs": [
    {
     "name": "stdin",
     "output_type": "stream",
     "text": [
      "Enter an integer:  1\n",
      "Enter a second integer:  2\n"
     ]
    },
    {
     "name": "stdout",
     "output_type": "stream",
     "text": [
      "1 is not divisible by 2\n"
     ]
    }
   ],
   "source": [
    "x=int(input(\"Enter an integer: \"))\n",
    "y=int(input(\"Enter a second integer: \"))\n",
    "if x%y==0:\n",
    "  print(x, \"is divisible by\", y)\n",
    "else:\n",
    "  print(x, \"is not divisible by\", y)"
   ]
  },
  {
   "cell_type": "markdown",
   "metadata": {
    "id": "KkRZ63Cx--oo"
   },
   "source": [
    "#### Exercise: Evens and Odds\n",
    "Write a program to check if an integer input is even or odd.  If even, print \"(number) is an even number\", if odd, print \"(number) is an odd number\""
   ]
  },
  {
   "cell_type": "code",
   "execution_count": 21,
   "metadata": {
    "id": "ol-V6_0---oo"
   },
   "outputs": [
    {
     "name": "stdin",
     "output_type": "stream",
     "text": [
      "Enter an integer:  5\n"
     ]
    },
    {
     "name": "stdout",
     "output_type": "stream",
     "text": [
      "5 is an odd number.\n"
     ]
    }
   ],
   "source": [
    "num=int(input(\"Enter an integer: \"))\n",
    "# your code\n",
    "if num%2==0:\n",
    "    print(num, \"is an even number.\")\n",
    "else:\n",
    "    print(num, \"is an odd number.\")"
   ]
  },
  {
   "cell_type": "markdown",
   "metadata": {
    "id": "4P5ZCaqi--oo"
   },
   "source": [
    "#### Example:  Account Balance\n",
    "Write a program that takes in a starting yearly account balance and an ending yearly account balance for a company.  If the percent increase is more than 20%, print, \"the account balance has increased by (percent increase)\".  If the percent decrease exceeds 10%, print, \"the account balance has decreased by (percent decrease)\".  Otherwise print \"No action is required at this time\"."
   ]
  },
  {
   "cell_type": "code",
   "execution_count": 38,
   "metadata": {
    "id": "I3WjkTPb--oo"
   },
   "outputs": [
    {
     "name": "stdin",
     "output_type": "stream",
     "text": [
      "Enter starting account balance:  1000\n",
      "Enter ending account balance:  800\n"
     ]
    },
    {
     "name": "stdout",
     "output_type": "stream",
     "text": [
      "The account balance has decreased by -20.0%\n"
     ]
    }
   ],
   "source": [
    "start=float(input(\"Enter starting account balance: \"))\n",
    "end=float(input(\"Enter ending account balance: \"))\n",
    "# your code\n",
    "percent_increase = (end-start)/start \n",
    "\n",
    "if percent_increase > .2:\n",
    "    print(f\"the account balance has increased by {percent_increase*100}%\")\n",
    "elif percent_increase < -.1:\n",
    "    print(f\"The account balance has decreased by {percent_increase*100}%\")\n",
    "else:\n",
    "    print(\"Not action required at this time.\")"
   ]
  },
  {
   "cell_type": "markdown",
   "metadata": {
    "id": "GY1dJlQr--op"
   },
   "source": [
    "#### Exercise: Stock Decisions\n",
    "Write a program to take in two inputs -- the purchase price of a stock and the current price.  If the current price is less than 90% of the purchase price, print \"sell the stock to stop loss, you have lost (amount) dollars\".  If the current price is more than 20% higher than the than the purchase price, print \"sell the stock to make a profit, you have lost (amount) dollars\".  Otherwise print, \"no action is required.\"   "
   ]
  },
  {
   "cell_type": "code",
   "execution_count": 45,
   "metadata": {
    "id": "wLu8kEvB--op"
   },
   "outputs": [
    {
     "name": "stdin",
     "output_type": "stream",
     "text": [
      "Enter the purchase price of the stock:  50\n",
      "Enter the current price of the stock:  40\n"
     ]
    },
    {
     "name": "stdout",
     "output_type": "stream",
     "text": [
      "sell the stock to stop loss, you have lost 10.0 dollars.\n"
     ]
    }
   ],
   "source": [
    "purchase_price = float(input(\"Enter the purchase price of the stock: \"))\n",
    "price_now = float(input(\"Enter the current price of the stock: \"))\n",
    "# your code\n",
    "\n",
    "if price_now < .9*purchase_price:\n",
    "    print(f\"sell the stock to stop loss, you have lost {abs(price_now - purchase_price)} dollars.\")\n",
    "else:\n",
    "    print(\"no action is required\")\n"
   ]
  },
  {
   "cell_type": "markdown",
   "metadata": {
    "id": "dgS6ViIw--op"
   },
   "source": [
    "### Iteration with Definite Loops\n",
    "Programmers use loops to execute a sequence of statements several times in succession. The simplest kind of loop is called a definite loop. This is a loop that will execute a definite number of times.\n",
    "\n",
    "Modeling the iterative process in Python looks like:\n",
    "\n",
    "![iteration](https://drive.google.com/uc?id=1Uzb95HnfwNpfXUdnqnIf0aGBf6zU1Juo)  \n",
    "\n",
    "Unlike in some other programming languages, Python automatically recognizes the elements of a series.  If the input is a string, Python will iterate through the characters that make up the string; if the input is a number, Python will iterate through each digit in the number; if the input is a list, Python will iterate through each element of the list."
   ]
  },
  {
   "cell_type": "markdown",
   "metadata": {
    "id": "BgpUUzesHxXb"
   },
   "source": [
    "#### Example:  Print values in a range"
   ]
  },
  {
   "cell_type": "code",
   "execution_count": 46,
   "metadata": {
    "id": "5Kd31SLI--op"
   },
   "outputs": [
    {
     "name": "stdout",
     "output_type": "stream",
     "text": [
      "0\n",
      "10\n",
      "20\n",
      "30\n",
      "40\n",
      "50\n",
      "60\n",
      "70\n",
      "80\n",
      "90\n"
     ]
    }
   ],
   "source": [
    "# multiply every value in the range 0 to 10 by 10 and print the result\n",
    "for i in range(10):\n",
    "    x=10*i\n",
    "    print(x)"
   ]
  },
  {
   "cell_type": "markdown",
   "metadata": {
    "id": "l0LRzpqB--oq"
   },
   "source": [
    "What happens if we remove the indent for the print function?"
   ]
  },
  {
   "cell_type": "code",
   "execution_count": 47,
   "metadata": {
    "id": "cxhZjOYS--oq"
   },
   "outputs": [
    {
     "name": "stdout",
     "output_type": "stream",
     "text": [
      "90\n"
     ]
    }
   ],
   "source": [
    "# multiply every value in the range 0 to 10 by 10 and print the result\n",
    "for i in range(10):\n",
    "    x=10*i\n",
    "print(x)"
   ]
  },
  {
   "cell_type": "markdown",
   "metadata": {
    "id": "mXD-5CtEH3kh"
   },
   "source": [
    "#### Example:  Print values in a list"
   ]
  },
  {
   "cell_type": "code",
   "execution_count": 48,
   "metadata": {
    "id": "PGW5buZ---oq"
   },
   "outputs": [
    {
     "name": "stdout",
     "output_type": "stream",
     "text": [
      "3\n",
      "4\n",
      "5\n",
      "6\n",
      "7\n"
     ]
    }
   ],
   "source": [
    "# using a list as an input\n",
    "things=[1, 2, 3, 4, 5]\n",
    "for thing in things:\n",
    "  print(thing+2)"
   ]
  },
  {
   "cell_type": "markdown",
   "metadata": {
    "id": "2K2aSf1RH9vU"
   },
   "source": [
    "#### Example: Print characters in a string"
   ]
  },
  {
   "cell_type": "code",
   "execution_count": 49,
   "metadata": {
    "id": "wr-VkIsN--oq",
    "scrolled": true
   },
   "outputs": [
    {
     "name": "stdout",
     "output_type": "stream",
     "text": [
      "a\n",
      "b\n",
      "c\n",
      "d\n",
      "e\n",
      "f\n",
      "g\n"
     ]
    }
   ],
   "source": [
    "# accessing each character in a string\n",
    "str='abcdefg'\n",
    "for i in str:\n",
    "    print(i)"
   ]
  },
  {
   "cell_type": "markdown",
   "metadata": {
    "id": "YJhzS-h8--oq"
   },
   "source": [
    "#### Example: Future Values\n",
    "Let's write a somewhat more sophisticated program to calculate the future value of the principal on an investment after 10 years at a given rate (apr).\n",
    "\n",
    "- Program: Future Value\n",
    "\n",
    "- Inputs:  \n",
    "- principal - the amount of money being invested in dollars.\n",
    "- apr - the annual percentage rate expressed as a decimal number.\n",
    "\n",
    "- Output:  The value of the investment 10 years into the future.\n",
    "\n",
    "- Relationship:  Value after one year is given by *principal(1+apr)*.  This formula needs to be applied 10 times."
   ]
  },
  {
   "cell_type": "code",
   "execution_count": 50,
   "metadata": {
    "id": "Z6xmQrvU--or"
   },
   "outputs": [
    {
     "name": "stdin",
     "output_type": "stream",
     "text": [
      "Enter the amount of the initial principal:  100\n",
      "Enter the annual interest rate .05\n"
     ]
    },
    {
     "name": "stdout",
     "output_type": "stream",
     "text": [
      "The value after 10 years is:  162.8894626777442\n"
     ]
    }
   ],
   "source": [
    "principal=float(input(\"Enter the amount of the initial principal: \"))\n",
    "apr=float(input(\"Enter the annual interest rate\"))\n",
    "for i in range(10):\n",
    "    principal=principal*(1+apr)\n",
    "print(\"The value after 10 years is: \", principal)"
   ]
  },
  {
   "cell_type": "markdown",
   "metadata": {
    "id": "wJMtY-ox82y2"
   },
   "source": [
    "### Example: Find Min\n",
    "\n",
    "Write a function to find the minimum of a collection of values."
   ]
  },
  {
   "cell_type": "code",
   "execution_count": 51,
   "metadata": {
    "id": "QVUxqF1G864z"
   },
   "outputs": [],
   "source": [
    "def find_min(vals):\n",
    "    min=1000\n",
    "    for i in vals:\n",
    "        if i<min:\n",
    "            min=i\n",
    "    print(min)\n"
   ]
  },
  {
   "cell_type": "markdown",
   "metadata": {
    "id": "huxv3ACcQjTk"
   },
   "source": [
    "Tests"
   ]
  },
  {
   "cell_type": "code",
   "execution_count": 52,
   "metadata": {
    "id": "WYtn3YZRQfVf"
   },
   "outputs": [
    {
     "name": "stdout",
     "output_type": "stream",
     "text": [
      "1\n"
     ]
    }
   ],
   "source": [
    "x=[3,4,5,3,6,8,2,6,8,1,12,34,4,1,4]\n",
    "find_min(x)"
   ]
  },
  {
   "cell_type": "code",
   "execution_count": 53,
   "metadata": {
    "id": "BF2YCkQbQisb"
   },
   "outputs": [
    {
     "name": "stdout",
     "output_type": "stream",
     "text": [
      "2\n"
     ]
    }
   ],
   "source": [
    "y=[5,7,2,8,9,4,5,7,9,9,4,5,2]\n",
    "find_min(y)"
   ]
  },
  {
   "cell_type": "markdown",
   "metadata": {
    "id": "uKss2XhB--or"
   },
   "source": [
    "#### Example:  Combining Iteration and Conditioning\n",
    "We can combine the methods of conditioning and iteration in order to create powerful programs.  We'll modify the program we used earlier to make decisions about stock prices."
   ]
  },
  {
   "cell_type": "code",
   "execution_count": 54,
   "metadata": {
    "id": "3_2i2o9i--or"
   },
   "outputs": [
    {
     "name": "stdout",
     "output_type": "stream",
     "text": [
      "You have made a profit of $ 15 and lost $ 7 you broke even 1 time(s)\n"
     ]
    }
   ],
   "source": [
    "purchase_price=7\n",
    "prices_list=[3,5,12,10,6,14,7]\n",
    "profit=0\n",
    "loss=0\n",
    "even=0\n",
    "for price in prices_list:\n",
    "    if price < purchase_price * .9:\n",
    "        loss+=purchase_price-price\n",
    "    elif price > purchase_price * 1.2:\n",
    "        profit+=price-purchase_price\n",
    "    else:\n",
    "        even+=1\n",
    "print(\"You have made a profit of $\",profit, \"and lost $\",loss, \"you broke even\", even, \"time(s)\")"
   ]
  },
  {
   "cell_type": "markdown",
   "metadata": {
    "id": "hLA3JWvx--or"
   },
   "source": [
    "#### Exercise: House Prices\n",
    " A house is listed for sale at a price of $360,000.  Write a program that takes in a list of offers (integers) and counts the number of offers that are either equal-to/above or below asking price.  Print a final statement that communicates how many offers are above asking price and how many are below asking price.   "
   ]
  },
  {
   "cell_type": "code",
   "execution_count": 56,
   "metadata": {
    "id": "D8L9FZVk--or"
   },
   "outputs": [
    {
     "name": "stdout",
     "output_type": "stream",
     "text": [
      "There are 2 offers above the asking price and 3 offers below the asking price of 360000\n"
     ]
    }
   ],
   "source": [
    "asking_price=360000\n",
    "offers=[400000, 320000, 340000, 350000, 372000]\n",
    "above=0\n",
    "below=0\n",
    "# your code\n",
    "for offer in offers:\n",
    "    if offer >= asking_price:\n",
    "        above+=1\n",
    "    elif offer <= asking_price:\n",
    "        below+=1\n",
    "print(f\"There are {above} offers above the asking price and {below} offers below the asking price of {asking_price}\")\n"
   ]
  },
  {
   "cell_type": "code",
   "execution_count": null,
   "metadata": {},
   "outputs": [],
   "source": []
  }
 ],
 "metadata": {
  "colab": {
   "provenance": []
  },
  "kernelspec": {
   "display_name": "Python 3 (ipykernel)",
   "language": "python",
   "name": "python3"
  },
  "language_info": {
   "codemirror_mode": {
    "name": "ipython",
    "version": 3
   },
   "file_extension": ".py",
   "mimetype": "text/x-python",
   "name": "python",
   "nbconvert_exporter": "python",
   "pygments_lexer": "ipython3",
   "version": "3.13.5"
  }
 },
 "nbformat": 4,
 "nbformat_minor": 4
}
